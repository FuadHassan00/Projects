{
 "cells": [
  {
   "cell_type": "code",
   "execution_count": 1,
   "metadata": {},
   "outputs": [],
   "source": [
    "import pprint\n",
    "import requests\n",
    "import csv\n",
    "from datetime import datetime, timedelta\n",
    "import numpy as np\n",
    "import json"
   ]
  },
  {
   "cell_type": "code",
   "execution_count": 2,
   "metadata": {},
   "outputs": [],
   "source": [
    "url = 'https://api.sportradar.us/soccer-extended/trial/v4/en/seasons/sr:season:83706/standings.json?api_key=k766z4knqnbn647xk7mdnn4p'\n",
    "response = requests.get(url)\n",
    "\n",
    "# Check if the request was successful (status code 200)\n",
    "if response.status_code == 200:\n",
    "    # Access the response content\n",
    "    data = response.json()\n",
    "    #printer = pprint.PrettyPrinter( width=80, compact=True )\n",
    "    #printer.pprint(data)\n",
    "    standings = data['standings']\n",
    "    #print(standings)\n",
    "else:\n",
    "    print('Request failed with status code:', response.status_code)"
   ]
  },
  {
   "cell_type": "code",
   "execution_count": null,
   "metadata": {},
   "outputs": [],
   "source": [
    "#standings[0]['groups'][0]['standings']"
   ]
  },
  {
   "cell_type": "code",
   "execution_count": 104,
   "metadata": {},
   "outputs": [],
   "source": [
    "# header = ['Team Name', 'Rank', 'Matches Played', 'Wins', 'Loss', 'Draws', 'Goals For', 'Goals Against', 'Goals Difference', 'Points']\n",
    "\n",
    "# with open('league.csv', 'w') as league:\n",
    "#     print(*header, sep=',', file = league)\n",
    "#     ## grabbing the names of the clubs\n",
    "#     names = []\n",
    "#     for name in standings[0]['groups'][0]['standings']:\n",
    "#         names.append(name['competitor']['name'])\n",
    "#     for j in names:\n",
    "#         print(j, file = league, sep=',')\n",
    "#     items = ['rank', 'played', 'win','loss', 'draw', 'goals_for', 'goals_against', 'goals_diff','points']\n",
    "#     info = []\n",
    "#     for item in items:\n",
    "#         for i in standings[0]['groups'][0]['standings']:\n",
    "#             value = i[item]\n",
    "#             info.append(f\"{item}: {value}\")\n",
    "#     for i in info:\n",
    "#        print(i, file = league, sep = ',')\n",
    "    \n",
    "            #print(value, file=league)\n",
    "            #print(value, sep=',', end=',',file = league)\n",
    "            #print(f\"{header[items.index(item)]}: {item}\", file=league)\n",
    "    #for i in standings[0]['groups'][0]['standings']:\n",
    "        #for item in items:\n",
    "           # value = i[item]\n",
    "            #print(f\"{header[items.index(item)]}: {value}\", file=league)\n",
    "\n"
   ]
  },
  {
   "cell_type": "code",
   "execution_count": 114,
   "metadata": {},
   "outputs": [],
   "source": [
    "header =  ['team name', 'rank', 'played', 'win','loss', 'draw', 'goals_for', 'goals_against', 'goals_diff','points']\n",
    "with open('league.csv', 'w') as league:\n",
    "    print(*header, sep=',', file=league)\n",
    "    \n",
    "    # Grab the names of the clubs\n",
    "    names = [] # Creating an empty list \n",
    "    for name in standings[0]['groups'][0]['standings']: ## Itertating the first element in standings then the first group within standings \n",
    "        names.append(name['competitor']['name']) # Then the name of each team is appended to the empty list \"name\"\n",
    "    \n",
    "    # Print the team names and information\n",
    "    for i in range(len(names)): ## itterating the length of names which is 20\n",
    "        print(names[i], end=',', file=league) # each name is printed to the cvs 'league'\n",
    "        \n",
    "        # Print the corresponding values for each team\n",
    "        for item in header[1:]:\n",
    "            #standings[0] retrieves the first element in the standings list.\n",
    "            # ['groups'][0] accesses the first group within the standings.\n",
    "            # ['standings'][i] retrieves the standings information for the current team represented by the index i.\n",
    "            # [item.lower().replace(' ', '_')] accesses the value corresponding to the current item (column header) in lowercase and with spaces replaced by underscores.\n",
    "            value = standings[0]['groups'][0]['standings'][i][item.lower().replace(' ', '_')]\n",
    "\n",
    "            print(value, end=',', file=league) #Prints the fetched value to the CSV file, separated by a comma.\n",
    "            #end=',' ensures that each value is written in the same row, separated by commas.\n",
    "        \n",
    "        print('', file=league) ## adds a blank line as a seperator"
   ]
  },
  {
   "cell_type": "code",
   "execution_count": 71,
   "metadata": {},
   "outputs": [],
   "source": [
    "# Works\n",
    "header = ['Team Name', 'Rank', 'Matches Played', 'Wins', 'Loss', 'Draws', 'Goals For', 'Goals Against', 'Goals Difference', 'Points']\n",
    "\n",
    "with open('league.csv', 'w') as league:\n",
    "    print(*header, sep=',', file=league)\n",
    "    ## grabbing the names of the clubs\n",
    "    names = []\n",
    "    for name in standings[0]['groups'][0]['standings']:\n",
    "        names.append(name['competitor']['name'])\n",
    "    for team in standings[0]['groups'][0]['standings']:\n",
    "        print(team['competitor']['name'], file=league, end=',')\n",
    "        items = ['rank', 'played', 'win', 'loss', 'draw', 'goals_for', 'goals_against', 'goals_diff', 'points']\n",
    "\n",
    "        # Splitting the items into chunks of 20\n",
    "        # The code is splitting the items list into chunks of 20 items each using list comprehension. It creates a new list called chunks, where each chunk contains 20 items from the items list.\n",
    "        # then, it initializes an empty list called values. It iterates over each chunk in chunks, and for each chunk, it retrieves the corresponding values for each team from the team dictionary and appends them to the values list. This is done by iterating over the items in the current chunk and accessing the corresponding value from the team dictionary using the item as the key.\n",
    "        # Finally, it prints the values in the values list, separated by commas, and writes them to the league file. This allows the values to be written in a CSV format with the desired chunking of 20 items per row.\n",
    "        \n",
    "        chunks = [items[i:i+20] for i in range(0, len(items), 20)]\n",
    "\n",
    "        values = []\n",
    "        for chunk in chunks:\n",
    "            values.extend([team[item] for item in chunk])\n",
    "\n",
    "        print(*values, sep=',', file=league)"
   ]
  }
 ],
 "metadata": {
  "interpreter": {
   "hash": "aee8b7b246df8f9039afb4144a1f6fd8d2ca17a180786b69acc140d282b71a49"
  },
  "kernelspec": {
   "display_name": "Python 3",
   "language": "python",
   "name": "python3"
  },
  "language_info": {
   "codemirror_mode": {
    "name": "ipython",
    "version": 3
   },
   "file_extension": ".py",
   "mimetype": "text/x-python",
   "name": "python",
   "nbconvert_exporter": "python",
   "pygments_lexer": "ipython3",
   "version": "3.8.8"
  }
 },
 "nbformat": 4,
 "nbformat_minor": 4
}
