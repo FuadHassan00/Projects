{
 "cells": [
  {
   "cell_type": "markdown",
   "metadata": {},
   "source": [
    "Predicting Nigeria Car Price"
   ]
  },
  {
   "cell_type": "code",
   "execution_count": 1,
   "metadata": {},
   "outputs": [],
   "source": [
    "import numpy as np\n",
    "import pandas as pd\n",
    "import matplotlib as plt\n",
    "import seaborn as sns\n",
    "from sklearn.model_selection import train_test_split\n",
    "sns.set(style = \"white\")\n",
    "sns.set(style = \"whitegrid\", color_codes = True)"
   ]
  },
  {
   "cell_type": "code",
   "execution_count": 2,
   "metadata": {},
   "outputs": [],
   "source": [
    "#Importng data set\n",
    "prices = pd.read_csv(\"/Users/fuadhassan/Downloads/Nigerian_Car_Prices.csv\")"
   ]
  },
  {
   "cell_type": "markdown",
   "metadata": {},
   "source": [
    "EDA"
   ]
  },
  {
   "cell_type": "code",
   "execution_count": 37,
   "metadata": {},
   "outputs": [
    {
     "name": "stdout",
     "output_type": "stream",
     "text": [
      "<class 'pandas.core.frame.DataFrame'>\n",
      "RangeIndex: 4095 entries, 0 to 4094\n",
      "Data columns (total 10 columns):\n",
      " #   Column               Non-Null Count  Dtype  \n",
      "---  ------               --------------  -----  \n",
      " 0   Unnamed: 0           4095 non-null   int64  \n",
      " 1   Make                 4095 non-null   object \n",
      " 2   Year of manufacture  3617 non-null   float64\n",
      " 3   Condition            3616 non-null   object \n",
      " 4   Mileage              4024 non-null   float64\n",
      " 5   Engine Size          3584 non-null   float64\n",
      " 6   Fuel                 3607 non-null   object \n",
      " 7   Transmission         4075 non-null   object \n",
      " 8   Price                4095 non-null   object \n",
      " 9   Build                1127 non-null   object \n",
      "dtypes: float64(3), int64(1), object(6)\n",
      "memory usage: 320.0+ KB\n"
     ]
    }
   ],
   "source": [
    "## Variable types\n",
    "prices.info()"
   ]
  },
  {
   "cell_type": "code",
   "execution_count": 3,
   "metadata": {},
   "outputs": [
    {
     "data": {
      "text/plain": [
       "Unnamed: 0             4095\n",
       "Make                     49\n",
       "Year of manufacture      29\n",
       "Condition                 3\n",
       "Mileage                3118\n",
       "Engine Size              81\n",
       "Fuel                      4\n",
       "Transmission              4\n",
       "Price                   579\n",
       "Build                     1\n",
       "dtype: int64"
      ]
     },
     "execution_count": 3,
     "metadata": {},
     "output_type": "execute_result"
    }
   ],
   "source": [
    "# Sum of NA for each variable\n",
    "prices.isna().sum()\n",
    "prices.nunique()\n",
    "    ## Condition, Feul, Transmission, are cateogical"
   ]
  },
  {
   "cell_type": "code",
   "execution_count": 4,
   "metadata": {},
   "outputs": [
    {
     "data": {
      "text/plain": [
       "Unnamed: 0              0.000000\n",
       "Make                    0.000000\n",
       "Year of manufacture    11.672772\n",
       "Condition              11.697192\n",
       "Mileage                 1.733822\n",
       "Engine Size            12.478632\n",
       "Fuel                   11.916972\n",
       "Transmission            0.488400\n",
       "Price                   0.000000\n",
       "Build                  72.478632\n",
       "dtype: float64"
      ]
     },
     "execution_count": 4,
     "metadata": {},
     "output_type": "execute_result"
    }
   ],
   "source": [
    "## Percentage of null values\n",
    "(prices.isnull().sum() / len(prices)) * 100 ## Build can be dropped since it has a lot of null values"
   ]
  },
  {
   "cell_type": "code",
   "execution_count": 5,
   "metadata": {},
   "outputs": [
    {
     "data": {
      "text/html": [
       "<div>\n",
       "<style scoped>\n",
       "    .dataframe tbody tr th:only-of-type {\n",
       "        vertical-align: middle;\n",
       "    }\n",
       "\n",
       "    .dataframe tbody tr th {\n",
       "        vertical-align: top;\n",
       "    }\n",
       "\n",
       "    .dataframe thead th {\n",
       "        text-align: right;\n",
       "    }\n",
       "</style>\n",
       "<table border=\"1\" class=\"dataframe\">\n",
       "  <thead>\n",
       "    <tr style=\"text-align: right;\">\n",
       "      <th></th>\n",
       "      <th>Unnamed: 0</th>\n",
       "      <th>Year of manufacture</th>\n",
       "      <th>Mileage</th>\n",
       "      <th>Engine Size</th>\n",
       "    </tr>\n",
       "  </thead>\n",
       "  <tbody>\n",
       "    <tr>\n",
       "      <th>count</th>\n",
       "      <td>4095.000000</td>\n",
       "      <td>3617.000000</td>\n",
       "      <td>4.024000e+03</td>\n",
       "      <td>3584.000000</td>\n",
       "    </tr>\n",
       "    <tr>\n",
       "      <th>mean</th>\n",
       "      <td>2047.000000</td>\n",
       "      <td>2007.898535</td>\n",
       "      <td>1.825337e+05</td>\n",
       "      <td>3274.976562</td>\n",
       "    </tr>\n",
       "    <tr>\n",
       "      <th>std</th>\n",
       "      <td>1182.269005</td>\n",
       "      <td>4.300126</td>\n",
       "      <td>2.109233e+05</td>\n",
       "      <td>7693.489588</td>\n",
       "    </tr>\n",
       "    <tr>\n",
       "      <th>min</th>\n",
       "      <td>0.000000</td>\n",
       "      <td>1992.000000</td>\n",
       "      <td>1.000000e+00</td>\n",
       "      <td>3.000000</td>\n",
       "    </tr>\n",
       "    <tr>\n",
       "      <th>25%</th>\n",
       "      <td>1023.500000</td>\n",
       "      <td>2005.000000</td>\n",
       "      <td>1.020640e+05</td>\n",
       "      <td>2000.000000</td>\n",
       "    </tr>\n",
       "    <tr>\n",
       "      <th>50%</th>\n",
       "      <td>2047.000000</td>\n",
       "      <td>2008.000000</td>\n",
       "      <td>1.613525e+05</td>\n",
       "      <td>2500.000000</td>\n",
       "    </tr>\n",
       "    <tr>\n",
       "      <th>75%</th>\n",
       "      <td>3070.500000</td>\n",
       "      <td>2011.000000</td>\n",
       "      <td>2.319522e+05</td>\n",
       "      <td>3500.000000</td>\n",
       "    </tr>\n",
       "    <tr>\n",
       "      <th>max</th>\n",
       "      <td>4094.000000</td>\n",
       "      <td>2021.000000</td>\n",
       "      <td>9.976050e+06</td>\n",
       "      <td>371000.000000</td>\n",
       "    </tr>\n",
       "  </tbody>\n",
       "</table>\n",
       "</div>"
      ],
      "text/plain": [
       "        Unnamed: 0  Year of manufacture       Mileage    Engine Size\n",
       "count  4095.000000          3617.000000  4.024000e+03    3584.000000\n",
       "mean   2047.000000          2007.898535  1.825337e+05    3274.976562\n",
       "std    1182.269005             4.300126  2.109233e+05    7693.489588\n",
       "min       0.000000          1992.000000  1.000000e+00       3.000000\n",
       "25%    1023.500000          2005.000000  1.020640e+05    2000.000000\n",
       "50%    2047.000000          2008.000000  1.613525e+05    2500.000000\n",
       "75%    3070.500000          2011.000000  2.319522e+05    3500.000000\n",
       "max    4094.000000          2021.000000  9.976050e+06  371000.000000"
      ]
     },
     "execution_count": 5,
     "metadata": {},
     "output_type": "execute_result"
    }
   ],
   "source": [
    "## Summary Statistics\n",
    "prices.describe()"
   ]
  },
  {
   "cell_type": "code",
   "execution_count": 6,
   "metadata": {},
   "outputs": [],
   "source": [
    "prices_1 = prices.copy()"
   ]
  },
  {
   "cell_type": "code",
   "execution_count": 7,
   "metadata": {},
   "outputs": [],
   "source": [
    "prices_1 = prices_1.drop(columns= ['Build']) ## Dropping Build"
   ]
  },
  {
   "cell_type": "code",
   "execution_count": 8,
   "metadata": {},
   "outputs": [],
   "source": [
    "prices_1['Price'].replace(to_replace=',', value='', regex=True, inplace=True) ## Removing commas in price"
   ]
  },
  {
   "cell_type": "code",
   "execution_count": 9,
   "metadata": {},
   "outputs": [],
   "source": [
    "prices_1['Price'] = prices_1['Price'].astype(float) ## Converting price to a float"
   ]
  },
  {
   "cell_type": "code",
   "execution_count": 10,
   "metadata": {},
   "outputs": [],
   "source": [
    "Continous = prices_1.drop(columns=['Condition', 'Fuel', 'Transmission','Make'])"
   ]
  },
  {
   "cell_type": "code",
   "execution_count": 10,
   "metadata": {},
   "outputs": [
    {
     "name": "stdout",
     "output_type": "stream",
     "text": [
      "AxesSubplot(0.125,0.125;0.775x0.755)\n",
      "AxesSubplot(0.125,0.125;0.775x0.755)\n",
      "AxesSubplot(0.125,0.125;0.775x0.755)\n",
      "AxesSubplot(0.125,0.125;0.775x0.755)\n",
      "AxesSubplot(0.125,0.125;0.775x0.755)\n"
     ]
    },
    {
     "data": {
      "image/png": "[encoded data removed]",
      "text/plain": [
       "<Figure size 432x288 with 1 Axes>"
      ]
     },
     "metadata": {},
     "output_type": "display_data"
    }
   ],
   "source": [
    "for con in Continous:\n",
    "    print(sns.histplot(Continous,  x=con))"
   ]
  },
  {
   "cell_type": "code",
   "execution_count": 43,
   "metadata": {},
   "outputs": [],
   "source": [
    "## Categorical\n",
    "#sns.countplot(x= 'Condition', data = Category, palette= 'hls')\n",
    "Categorical = prices_1.drop(columns = ['Unnamed: 0', 'Year of manufacture', 'Mileage', 'Engine Size', 'Price'])"
   ]
  },
  {
   "cell_type": "code",
   "execution_count": 47,
   "metadata": {},
   "outputs": [
    {
     "name": "stdout",
     "output_type": "stream",
     "text": [
      "Toyota           1469\n",
      "Lexus             464\n",
      "Mercedes-Benz     436\n",
      "Honda             428\n",
      "Ford              197\n",
      "Hyundai           179\n",
      "Nissan            173\n",
      "Kia                90\n",
      "Land Rover         74\n",
      "Volkswagen         64\n",
      "BMW                63\n",
      "Mazda              63\n",
      "Acura              56\n",
      "Infiniti           41\n",
      "Chevrolet          40\n",
      "Peugeot            36\n",
      "Mitsubishi         23\n",
      "Volvo              22\n",
      "Pontiac            22\n",
      "Suzuki             21\n",
      "Dodge              17\n",
      "Audi               14\n",
      "Opel               12\n",
      "Jaguar             11\n",
      "Jeep               11\n",
      "Porsche             9\n",
      "Renault             8\n",
      "Chrysler            7\n",
      "Fiat                6\n",
      "GMC                 5\n",
      "Lincoln             4\n",
      "Changan             4\n",
      "Skoda               3\n",
      "Hummer              2\n",
      "Isuzu               2\n",
      "Citroen             2\n",
      "JAC                 2\n",
      "Mini                2\n",
      "Buick               2\n",
      "MG                  2\n",
      "Cadillac            1\n",
      "Foton               1\n",
      "Rover               1\n",
      "Saturn              1\n",
      "SsangYong           1\n",
      "Daihatsu            1\n",
      "Bentley             1\n",
      "Seat                1\n",
      "Tata                1\n",
      "Name: Make, dtype: int64\n",
      "Nigerian Used    2521\n",
      "Foreign Used     1090\n",
      "Brand New           5\n",
      "Name: Condition, dtype: int64\n",
      "Petrol      3535\n",
      "Diesel        37\n",
      "Hybrid        30\n",
      "Electric       5\n",
      "Name: Fuel, dtype: int64\n",
      "Automatic    3810\n",
      "Manual        230\n",
      "CVT            22\n",
      "AMT            13\n",
      "Name: Transmission, dtype: int64\n"
     ]
    }
   ],
   "source": [
    "## Value Counts for categories\n",
    "for cat in Categorical:\n",
    "    print(Categorical[cat].value_counts()) # No zero cell counts"
   ]
  },
  {
   "cell_type": "code",
   "execution_count": 11,
   "metadata": {},
   "outputs": [],
   "source": [
    "# set up the threshold percent\n",
    "threshold_percent = 1\n",
    "\n",
    "series = pd.value_counts(prices_1['Make'])\n",
    "mask = (series / series.sum() * 100).lt(threshold_percent)\n",
    "prices_1 = prices_1.assign(Make_updated = np.where(prices_1['Make'].isin(series[mask].index),'Other', prices_1['Make'])) ## Creating other category for Make"
   ]
  },
  {
   "cell_type": "code",
   "execution_count": 12,
   "metadata": {},
   "outputs": [],
   "source": [
    "prices_1['Make_updated'].value_counts()\n",
    "prices_1 = prices_1.drop(columns= ['Make']) "
   ]
  },
  {
   "cell_type": "markdown",
   "metadata": {},
   "source": [
    "Analysis"
   ]
  },
  {
   "cell_type": "code",
   "execution_count": 13,
   "metadata": {},
   "outputs": [],
   "source": [
    "### Train Test split\n",
    "X = prices_1.drop(['Price','Unnamed: 0'], axis=1)  # features\n",
    "y = prices_1['Price'] \n",
    "X_train, X_test, y_train, y_test = train_test_split(X, y, test_size=0.4, random_state=42)"
   ]
  },
  {
   "cell_type": "markdown",
   "metadata": {},
   "source": [
    "Train"
   ]
  },
  {
   "cell_type": "code",
   "execution_count": 47,
   "metadata": {},
   "outputs": [
    {
     "data": {
      "text/plain": [
       "Year of manufacture    275\n",
       "Condition              275\n",
       "Mileage                 46\n",
       "Engine Size            296\n",
       "Fuel                   285\n",
       "Transmission            13\n",
       "Make_updated             0\n",
       "dtype: int64"
      ]
     },
     "execution_count": 47,
     "metadata": {},
     "output_type": "execute_result"
    }
   ],
   "source": [
    "#Sum of NA\n",
    "X_train.isnull().sum()"
   ]
  },
  {
   "cell_type": "code",
   "execution_count": 14,
   "metadata": {},
   "outputs": [
    {
     "name": "stderr",
     "output_type": "stream",
     "text": [
      "<ipython-input-14-db27334b26e1>:7: SettingWithCopyWarning: \n",
      "A value is trying to be set on a copy of a slice from a DataFrame.\n",
      "Try using .loc[row_indexer,col_indexer] = value instead\n",
      "\n",
      "See the caveats in the documentation: https://pandas.pydata.org/pandas-docs/stable/user_guide/indexing.html#returning-a-view-versus-a-copy\n",
      "  X_train[col+\"_missing\"] = X_train[col].isnull()*1\n"
     ]
    }
   ],
   "source": [
    "### Creating a binary flag before imputation for continuous\n",
    "for col in X_train:\n",
    "    #get dtype for column\n",
    "    dt = X_train[col].dtype \n",
    "    #check if it is a number\n",
    "    if dt == int or dt == float:\n",
    "        X_train[col+\"_missing\"] = X_train[col].isnull()*1 \n",
    "    else:\n",
    "        X_train[col]"
   ]
  },
  {
   "cell_type": "code",
   "execution_count": 15,
   "metadata": {},
   "outputs": [
    {
     "name": "stderr",
     "output_type": "stream",
     "text": [
      "<ipython-input-15-b643d207e6fd>:8: SettingWithCopyWarning: \n",
      "A value is trying to be set on a copy of a slice from a DataFrame.\n",
      "Try using .loc[row_indexer,col_indexer] = value instead\n",
      "\n",
      "See the caveats in the documentation: https://pandas.pydata.org/pandas-docs/stable/user_guide/indexing.html#returning-a-view-versus-a-copy\n",
      "  X_train[col] = X_train[col].fillna(X_train[col].median())\n"
     ]
    }
   ],
   "source": [
    "#Dealing with NA's for Continuous\n",
    "#prices[['Year of manufacture','Mileage','Engine Size']] = prices[[['Year of manufacture','Mileage','Engine Size']]].fillna(prices[['Year of manufacture','Mileage','Engine Size']].median())\n",
    "for col in X_train:\n",
    "    #get dtype for column\n",
    "    dt = X_train[col].dtype \n",
    "    #check if it is a number\n",
    "    if dt == int or dt == float:\n",
    "        X_train[col] = X_train[col].fillna(X_train[col].median())\n",
    "    else:\n",
    "        X_train[col].fillna(\"\")"
   ]
  },
  {
   "cell_type": "code",
   "execution_count": null,
   "metadata": {},
   "outputs": [],
   "source": [
    "X_train[X_train['Mileage_missing']==1] ## Checking to make sure column was created right and flag was created"
   ]
  },
  {
   "cell_type": "code",
   "execution_count": 16,
   "metadata": {},
   "outputs": [
    {
     "data": {
      "text/plain": [
       "Year of manufacture              0\n",
       "Condition                      275\n",
       "Mileage                          0\n",
       "Engine Size                      0\n",
       "Fuel                           285\n",
       "Transmission                    13\n",
       "Make_updated                     0\n",
       "Year of manufacture_missing      0\n",
       "Mileage_missing                  0\n",
       "Engine Size_missing              0\n",
       "dtype: int64"
      ]
     },
     "execution_count": 16,
     "metadata": {},
     "output_type": "execute_result"
    }
   ],
   "source": [
    "X_train.isnull().sum()\n",
    "#prices_1['Condition'].value_counts()"
   ]
  },
  {
   "cell_type": "code",
   "execution_count": 86,
   "metadata": {},
   "outputs": [
    {
     "data": {
      "text/plain": [
       "Index(['Make', 'Condition', 'Fuel', 'Transmission'], dtype='object')"
      ]
     },
     "execution_count": 86,
     "metadata": {},
     "output_type": "execute_result"
    }
   ],
   "source": [
    "#Categorical.columns\n",
    "#Categorical.columns"
   ]
  },
  {
   "cell_type": "code",
   "execution_count": 16,
   "metadata": {},
   "outputs": [
    {
     "name": "stderr",
     "output_type": "stream",
     "text": [
      "<ipython-input-16-6142d28fb64c>:3: SettingWithCopyWarning: \n",
      "A value is trying to be set on a copy of a slice from a DataFrame.\n",
      "Try using .loc[row_indexer,col_indexer] = value instead\n",
      "\n",
      "See the caveats in the documentation: https://pandas.pydata.org/pandas-docs/stable/user_guide/indexing.html#returning-a-view-versus-a-copy\n",
      "  X_train[ColName] = np.where(X_train[ColName].isnull(),\"Missing\",X_train[ColName])\n"
     ]
    }
   ],
   "source": [
    "#Creating a missing categgory for catgorical variables\n",
    "def impute_nan_create_category(X_train,ColName):\n",
    "     X_train[ColName] = np.where(X_train[ColName].isnull(),\"Missing\",X_train[ColName])\n",
    "## Call function to create new category for variables\n",
    "for Columns in ['Condition', 'Fuel', 'Transmission']:\n",
    "    impute_nan_create_category(X_train,Columns)"
   ]
  },
  {
   "cell_type": "code",
   "execution_count": 17,
   "metadata": {},
   "outputs": [],
   "source": [
    "#X_train[X_train['Transmission']== 'Missing']\n",
    "X_train = pd.get_dummies(X_train, columns=['Make_updated','Condition', 'Fuel', 'Transmission'])"
   ]
  },
  {
   "cell_type": "code",
   "execution_count": 18,
   "metadata": {},
   "outputs": [
    {
     "data": {
      "text/html": [
       "<div>\n",
       "<style scoped>\n",
       "    .dataframe tbody tr th:only-of-type {\n",
       "        vertical-align: middle;\n",
       "    }\n",
       "\n",
       "    .dataframe tbody tr th {\n",
       "        vertical-align: top;\n",
       "    }\n",
       "\n",
       "    .dataframe thead th {\n",
       "        text-align: right;\n",
       "    }\n",
       "</style>\n",
       "<table border=\"1\" class=\"dataframe\">\n",
       "  <thead>\n",
       "    <tr style=\"text-align: right;\">\n",
       "      <th></th>\n",
       "      <th>Year of manufacture</th>\n",
       "      <th>Mileage</th>\n",
       "      <th>Engine Size</th>\n",
       "      <th>Year of manufacture_missing</th>\n",
       "      <th>Mileage_missing</th>\n",
       "      <th>Engine Size_missing</th>\n",
       "      <th>Make_updated_Acura</th>\n",
       "      <th>Make_updated_BMW</th>\n",
       "      <th>Make_updated_Ford</th>\n",
       "      <th>Make_updated_Honda</th>\n",
       "      <th>...</th>\n",
       "      <th>Fuel_Diesel</th>\n",
       "      <th>Fuel_Electric</th>\n",
       "      <th>Fuel_Hybrid</th>\n",
       "      <th>Fuel_Missing</th>\n",
       "      <th>Fuel_Petrol</th>\n",
       "      <th>Transmission_AMT</th>\n",
       "      <th>Transmission_Automatic</th>\n",
       "      <th>Transmission_CVT</th>\n",
       "      <th>Transmission_Manual</th>\n",
       "      <th>Transmission_Missing</th>\n",
       "    </tr>\n",
       "  </thead>\n",
       "  <tbody>\n",
       "    <tr>\n",
       "      <th>2684</th>\n",
       "      <td>2008.0</td>\n",
       "      <td>152837.0</td>\n",
       "      <td>2400.0</td>\n",
       "      <td>0</td>\n",
       "      <td>0</td>\n",
       "      <td>0</td>\n",
       "      <td>0</td>\n",
       "      <td>0</td>\n",
       "      <td>0</td>\n",
       "      <td>1</td>\n",
       "      <td>...</td>\n",
       "      <td>0</td>\n",
       "      <td>0</td>\n",
       "      <td>0</td>\n",
       "      <td>0</td>\n",
       "      <td>1</td>\n",
       "      <td>0</td>\n",
       "      <td>1</td>\n",
       "      <td>0</td>\n",
       "      <td>0</td>\n",
       "      <td>0</td>\n",
       "    </tr>\n",
       "    <tr>\n",
       "      <th>2880</th>\n",
       "      <td>2002.0</td>\n",
       "      <td>151278.0</td>\n",
       "      <td>2400.0</td>\n",
       "      <td>0</td>\n",
       "      <td>0</td>\n",
       "      <td>0</td>\n",
       "      <td>0</td>\n",
       "      <td>0</td>\n",
       "      <td>0</td>\n",
       "      <td>0</td>\n",
       "      <td>...</td>\n",
       "      <td>0</td>\n",
       "      <td>0</td>\n",
       "      <td>0</td>\n",
       "      <td>0</td>\n",
       "      <td>1</td>\n",
       "      <td>0</td>\n",
       "      <td>1</td>\n",
       "      <td>0</td>\n",
       "      <td>0</td>\n",
       "      <td>0</td>\n",
       "    </tr>\n",
       "    <tr>\n",
       "      <th>1867</th>\n",
       "      <td>2011.0</td>\n",
       "      <td>224612.0</td>\n",
       "      <td>2400.0</td>\n",
       "      <td>0</td>\n",
       "      <td>0</td>\n",
       "      <td>0</td>\n",
       "      <td>0</td>\n",
       "      <td>0</td>\n",
       "      <td>0</td>\n",
       "      <td>0</td>\n",
       "      <td>...</td>\n",
       "      <td>0</td>\n",
       "      <td>0</td>\n",
       "      <td>0</td>\n",
       "      <td>0</td>\n",
       "      <td>1</td>\n",
       "      <td>0</td>\n",
       "      <td>1</td>\n",
       "      <td>0</td>\n",
       "      <td>0</td>\n",
       "      <td>0</td>\n",
       "    </tr>\n",
       "    <tr>\n",
       "      <th>1271</th>\n",
       "      <td>2006.0</td>\n",
       "      <td>114031.0</td>\n",
       "      <td>3500.0</td>\n",
       "      <td>0</td>\n",
       "      <td>0</td>\n",
       "      <td>0</td>\n",
       "      <td>1</td>\n",
       "      <td>0</td>\n",
       "      <td>0</td>\n",
       "      <td>0</td>\n",
       "      <td>...</td>\n",
       "      <td>0</td>\n",
       "      <td>0</td>\n",
       "      <td>0</td>\n",
       "      <td>0</td>\n",
       "      <td>1</td>\n",
       "      <td>0</td>\n",
       "      <td>1</td>\n",
       "      <td>0</td>\n",
       "      <td>0</td>\n",
       "      <td>0</td>\n",
       "    </tr>\n",
       "    <tr>\n",
       "      <th>3307</th>\n",
       "      <td>2005.0</td>\n",
       "      <td>272020.0</td>\n",
       "      <td>1800.0</td>\n",
       "      <td>0</td>\n",
       "      <td>0</td>\n",
       "      <td>0</td>\n",
       "      <td>0</td>\n",
       "      <td>0</td>\n",
       "      <td>0</td>\n",
       "      <td>0</td>\n",
       "      <td>...</td>\n",
       "      <td>0</td>\n",
       "      <td>0</td>\n",
       "      <td>0</td>\n",
       "      <td>0</td>\n",
       "      <td>1</td>\n",
       "      <td>0</td>\n",
       "      <td>0</td>\n",
       "      <td>0</td>\n",
       "      <td>1</td>\n",
       "      <td>0</td>\n",
       "    </tr>\n",
       "  </tbody>\n",
       "</table>\n",
       "<p>5 rows × 35 columns</p>\n",
       "</div>"
      ],
      "text/plain": [
       "      Year of manufacture   Mileage  Engine Size  Year of manufacture_missing  \\\n",
       "2684               2008.0  152837.0       2400.0                            0   \n",
       "2880               2002.0  151278.0       2400.0                            0   \n",
       "1867               2011.0  224612.0       2400.0                            0   \n",
       "1271               2006.0  114031.0       3500.0                            0   \n",
       "3307               2005.0  272020.0       1800.0                            0   \n",
       "\n",
       "      Mileage_missing  Engine Size_missing  Make_updated_Acura  \\\n",
       "2684                0                    0                   0   \n",
       "2880                0                    0                   0   \n",
       "1867                0                    0                   0   \n",
       "1271                0                    0                   1   \n",
       "3307                0                    0                   0   \n",
       "\n",
       "      Make_updated_BMW  Make_updated_Ford  Make_updated_Honda  ...  \\\n",
       "2684                 0                  0                   1  ...   \n",
       "2880                 0                  0                   0  ...   \n",
       "1867                 0                  0                   0  ...   \n",
       "1271                 0                  0                   0  ...   \n",
       "3307                 0                  0                   0  ...   \n",
       "\n",
       "      Fuel_Diesel  Fuel_Electric  Fuel_Hybrid  Fuel_Missing  Fuel_Petrol  \\\n",
       "2684            0              0            0             0            1   \n",
       "2880            0              0            0             0            1   \n",
       "1867            0              0            0             0            1   \n",
       "1271            0              0            0             0            1   \n",
       "3307            0              0            0             0            1   \n",
       "\n",
       "      Transmission_AMT  Transmission_Automatic  Transmission_CVT  \\\n",
       "2684                 0                       1                 0   \n",
       "2880                 0                       1                 0   \n",
       "1867                 0                       1                 0   \n",
       "1271                 0                       1                 0   \n",
       "3307                 0                       0                 0   \n",
       "\n",
       "      Transmission_Manual  Transmission_Missing  \n",
       "2684                    0                     0  \n",
       "2880                    0                     0  \n",
       "1867                    0                     0  \n",
       "1271                    0                     0  \n",
       "3307                    1                     0  \n",
       "\n",
       "[5 rows x 35 columns]"
      ]
     },
     "execution_count": 18,
     "metadata": {},
     "output_type": "execute_result"
    }
   ],
   "source": [
    "X_train.head()\n",
    "#len(X_train)"
   ]
  },
  {
   "cell_type": "markdown",
   "metadata": {},
   "source": [
    "Building XGBoost model on training data"
   ]
  },
  {
   "cell_type": "code",
   "execution_count": 33,
   "metadata": {},
   "outputs": [],
   "source": [
    "## Libraries\n",
    "from sklearn.metrics import auc, accuracy_score, confusion_matrix, mean_squared_error\n",
    "from sklearn.model_selection import cross_val_score, GridSearchCV, KFold, RandomizedSearchCV\n",
    "from xgboost import XGBRegressor\n",
    "import xgboost as xgb\n",
    "#from hyperopt import STATUS_OK, Trials, fmin, hp, tpe\n",
    "\n",
    "from xgboost import XGBRegressor\n",
    "from sklearn.metrics import mean_squared_error as MSE"
   ]
  },
  {
   "cell_type": "code",
   "execution_count": 20,
   "metadata": {},
   "outputs": [
    {
     "name": "stdout",
     "output_type": "stream",
     "text": [
      "Fitting 5 folds for each of 45 candidates, totalling 225 fits\n",
      "Best parameters: {'colsample_bytree': 1, 'learning_rate': 0.2, 'max_depth': 3, 'n_estimators': 100}\n",
      "Lowest RMSE:  2796896.1365005085\n"
     ]
    }
   ],
   "source": [
    "##XGB Tunning\n",
    "params = { 'max_depth': [3,6,10],\n",
    "           'learning_rate': [0.1, 0.15, 0.2, 0.25, 0.3],\n",
    "           'n_estimators': [100, 500, 1000],\n",
    "           'colsample_bytree': [1]}\n",
    "xgbr = xgb.XGBRegressor(seed = 20)\n",
    "clf = GridSearchCV(estimator=xgbr, \n",
    "                   param_grid=params,\n",
    "                   scoring='neg_mean_squared_error', \n",
    "                   verbose=1)\n",
    "clf.fit(X_train, y_train)\n",
    "print(\"Best parameters:\", clf.best_params_)\n",
    "print(\"Lowest RMSE: \", (-clf.best_score_)**(1/2.0))\n"
   ]
  },
  {
   "cell_type": "code",
   "execution_count": 21,
   "metadata": {},
   "outputs": [
    {
     "name": "stdout",
     "output_type": "stream",
     "text": [
      "RMSE: 2852917.71\n"
     ]
    }
   ],
   "source": [
    "dmatrix = xgb.DMatrix(data=X_train, label=y_train)\n",
    "params={'objective':'reg:squarederror',\n",
    "         'max_depth': 3, \n",
    "         'colsample_bytree': 1,\n",
    "         'learning_rate':0.2}\n",
    "cv_results = xgb.cv(dtrain=dmatrix, params=params, nfold=10, metrics={'rmse'}, as_pandas=True, seed=20, num_boost_round=1000)\n",
    "print('RMSE: %.2f' % cv_results['test-rmse-mean'].min())"
   ]
  },
  {
   "cell_type": "code",
   "execution_count": 22,
   "metadata": {},
   "outputs": [],
   "source": [
    "## Building new model based on optimized parameters\n",
    "model = XGBRegressor(n_estimators = 1000, colsample_bytree=1, max_depth = 3, learning_rate = .2,objective= 'reg:squarederror')\n",
    "XGB = model.fit(X_train, y_train)"
   ]
  },
  {
   "cell_type": "markdown",
   "metadata": {},
   "source": [
    "Test"
   ]
  },
  {
   "cell_type": "code",
   "execution_count": 23,
   "metadata": {},
   "outputs": [
    {
     "name": "stderr",
     "output_type": "stream",
     "text": [
      "<ipython-input-23-8e33266ce30c>:7: SettingWithCopyWarning: \n",
      "A value is trying to be set on a copy of a slice from a DataFrame.\n",
      "Try using .loc[row_indexer,col_indexer] = value instead\n",
      "\n",
      "See the caveats in the documentation: https://pandas.pydata.org/pandas-docs/stable/user_guide/indexing.html#returning-a-view-versus-a-copy\n",
      "  X_test[col+\"_missing\"] = X_test[col].isnull()*1\n",
      "<ipython-input-23-8e33266ce30c>:18: SettingWithCopyWarning: \n",
      "A value is trying to be set on a copy of a slice from a DataFrame.\n",
      "Try using .loc[row_indexer,col_indexer] = value instead\n",
      "\n",
      "See the caveats in the documentation: https://pandas.pydata.org/pandas-docs/stable/user_guide/indexing.html#returning-a-view-versus-a-copy\n",
      "  X_test[col] = X_test[col].fillna(X_test[col].median())\n"
     ]
    }
   ],
   "source": [
    "### Creating a binary flag before imputation for continuous\n",
    "for col in X_test:\n",
    "    #get dtype for column\n",
    "    dt = X_test[col].dtype \n",
    "    #check if it is a number\n",
    "    if dt == int or dt == float:\n",
    "        X_test[col+\"_missing\"] = X_test[col].isnull()*1 \n",
    "    else:\n",
    "        X_test[col]\n",
    "\n",
    "#Dealing with NA's for Continuous\n",
    "#prices[['Year of manufacture','Mileage','Engine Size']] = prices[[['Year of manufacture','Mileage','Engine Size']]].fillna(prices[['Year of manufacture','Mileage','Engine Size']].median())\n",
    "for col in X_test:\n",
    "    #get dtype for column\n",
    "    dt = X_test[col].dtype \n",
    "    #check if it is a number\n",
    "    if dt == int or dt == float:\n",
    "        X_test[col] = X_test[col].fillna(X_test[col].median())\n",
    "    else:\n",
    "        X_test[col].fillna(\"\")"
   ]
  },
  {
   "cell_type": "code",
   "execution_count": 24,
   "metadata": {},
   "outputs": [
    {
     "name": "stderr",
     "output_type": "stream",
     "text": [
      "<ipython-input-24-1df90d857586>:3: SettingWithCopyWarning: \n",
      "A value is trying to be set on a copy of a slice from a DataFrame.\n",
      "Try using .loc[row_indexer,col_indexer] = value instead\n",
      "\n",
      "See the caveats in the documentation: https://pandas.pydata.org/pandas-docs/stable/user_guide/indexing.html#returning-a-view-versus-a-copy\n",
      "  X_test[ColName] = np.where(X_test[ColName].isnull(),\"Missing\",X_test[ColName])\n"
     ]
    }
   ],
   "source": [
    "#Creating a missing categgory for catgorical variables\n",
    "def impute_nan_create_category(X_test,ColName):\n",
    "     X_test[ColName] = np.where(X_test[ColName].isnull(),\"Missing\",X_test[ColName])\n",
    "## Call function to create new category for variables\n",
    "for Columns in ['Condition', 'Fuel', 'Transmission']:\n",
    "    impute_nan_create_category(X_test,Columns)"
   ]
  },
  {
   "cell_type": "code",
   "execution_count": 25,
   "metadata": {},
   "outputs": [],
   "source": [
    "#X_test[X_test['Engine Size_missing']==1]\n",
    "X_test = pd.get_dummies(X_test, columns=['Make_updated','Condition', 'Fuel', 'Transmission']) "
   ]
  },
  {
   "cell_type": "code",
   "execution_count": 26,
   "metadata": {},
   "outputs": [],
   "source": [
    "## There are 34 columns in test but 35 columns in train. This variable is missing so\n",
    "#I am creating this variable in the test and setting it to zero\n",
    "X_test['Condition_Brand New'] = 0"
   ]
  },
  {
   "cell_type": "code",
   "execution_count": 27,
   "metadata": {},
   "outputs": [],
   "source": [
    "column_to_move = X_test.pop(\"Condition_Brand New\")\n",
    "X_test.insert(21, \"Condition_Brand New\", column_to_move)"
   ]
  },
  {
   "cell_type": "code",
   "execution_count": 30,
   "metadata": {},
   "outputs": [],
   "source": [
    "## Making predictions on the test set\n",
    "y_pred=XGB.predict(X_test)"
   ]
  },
  {
   "cell_type": "code",
   "execution_count": 34,
   "metadata": {},
   "outputs": [
    {
     "name": "stdout",
     "output_type": "stream",
     "text": [
      "RMSE :  2807314.652137\n"
     ]
    }
   ],
   "source": [
    "rmse = np.sqrt(MSE(y_test, y_pred))\n",
    "print(\"RMSE : % f\" %(rmse))"
   ]
  },
  {
   "cell_type": "code",
   "execution_count": 35,
   "metadata": {},
   "outputs": [
    {
     "data": {
      "image/png": "[encoded data removed]",
      "text/plain": [
       "<Figure size 864x432 with 1 Axes>"
      ]
     },
     "metadata": {},
     "output_type": "display_data"
    }
   ],
   "source": [
    "## Feature Importance\n",
    "\n",
    "from xgboost import plot_importance\n",
    "import matplotlib.pyplot as plt\n",
    "plt.style.use('fivethirtyeight')\n",
    "plt.rcParams.update({'font.size': 16})\n",
    "\n",
    "fig, ax = plt.subplots(figsize=(12,6))\n",
    "plot_importance(XGB, max_num_features=8, ax=ax)\n",
    "plt.show()"
   ]
  },
  {
   "cell_type": "code",
   "execution_count": 37,
   "metadata": {},
   "outputs": [],
   "source": [
    "## Plotting actual vs predicted \n",
    "pred = pd.DataFrame(y_pred)"
   ]
  },
  {
   "cell_type": "code",
   "execution_count": 42,
   "metadata": {},
   "outputs": [],
   "source": [
    "pred = pred.apply(lambda x: '%.5f' % x, axis=1) ## Taking our scientific notation"
   ]
  },
  {
   "cell_type": "code",
   "execution_count": 60,
   "metadata": {},
   "outputs": [],
   "source": [
    "pred.columns = ['Price']"
   ]
  },
  {
   "cell_type": "code",
   "execution_count": 67,
   "metadata": {},
   "outputs": [],
   "source": [
    "y_test.reset_index(inplace=True, drop= True) ## resetting index"
   ]
  },
  {
   "cell_type": "code",
   "execution_count": 69,
   "metadata": {},
   "outputs": [],
   "source": [
    "## Joining actual vs predicted\n",
    "frame = [y_test, pred] \n",
    "result = pd.concat(frame, axis = 1)"
   ]
  },
  {
   "cell_type": "code",
   "execution_count": 75,
   "metadata": {},
   "outputs": [],
   "source": [
    "#Renaming columns\n",
    "result = result.rename(columns={\"Price\":\"Actual Price\"})\n",
    "result = result.rename(columns={0 :\"Predicted Price\"})"
   ]
  },
  {
   "cell_type": "code",
   "execution_count": 85,
   "metadata": {},
   "outputs": [
    {
     "data": {
      "image/png": "[encoded data removed]",
      "text/plain": [
       "<Figure size 720x720 with 1 Axes>"
      ]
     },
     "metadata": {},
     "output_type": "display_data"
    }
   ],
   "source": [
    "# convert the columns to numeric values\n",
    "y_test = pd.to_numeric(y_test)\n",
    "pred = pd.to_numeric(pred)\n",
    "\n",
    "diff = np.abs(pred - y_test)\n",
    "colors = np.where(diff < 0.1, 'green', 'red')\n",
    "\n",
    "# plot the actual vs predicted values with color coding\n",
    "plt.figure(figsize=(10,10))\n",
    "plt.scatter(y_test, pred, c=colors)\n",
    "plt.yscale('log')\n",
    "plt.xscale('log')\n",
    "\n",
    "p1 = max(max(pred), max(y_test))\n",
    "p2 = min(min(pred), min(y_test))\n",
    "plt.plot([p1, p2], [p1, p2], 'b-')\n",
    "plt.xlabel('True Values', fontsize=15)\n",
    "plt.ylabel('Predictions', fontsize=15)\n",
    "plt.axis('equal')\n",
    "plt.show()"
   ]
  }
 ],
 "metadata": {
  "interpreter": {
   "hash": "c72bf1dbc6c8ed050e7bba48dcde93823038d67a774a26c43849737fde336080"
  },
  "kernelspec": {
   "display_name": "Python 3.8.8 ('base')",
   "language": "python",
   "name": "python3"
  },
  "language_info": {
   "codemirror_mode": {
    "name": "ipython",
    "version": 3
   },
   "file_extension": ".py",
   "mimetype": "text/x-python",
   "name": "python",
   "nbconvert_exporter": "python",
   "pygments_lexer": "ipython3",
   "version": "3.8.8"
  },
  "orig_nbformat": 4
 },
 "nbformat": 4,
 "nbformat_minor": 2
}
