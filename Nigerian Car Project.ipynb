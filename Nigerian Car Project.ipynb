{
 "cells": [
  {
   "cell_type": "markdown",
   "metadata": {},
   "source": [
    "Predicting Nigeria Car Price"
   ]
  },
  {
   "cell_type": "code",
   "execution_count": 1,
   "metadata": {},
   "outputs": [],
   "source": [
    "import numpy as np\n",
    "import pandas as pd\n",
    "import matplotlib as plt\n",
    "import seaborn as sns\n",
    "from sklearn.model_selection import train_test_split\n",
    "sns.set(style = \"white\")\n",
    "sns.set(style = \"whitegrid\", color_codes = True)"
   ]
  },
  {
   "cell_type": "code",
   "execution_count": 224,
   "metadata": {},
   "outputs": [],
   "source": [
    "#Importng data set\n",
    "prices = pd.read_csv(\"/Users/fuadhassan/Downloads/Nigerian_Car_Prices.csv\")"
   ]
  },
  {
   "cell_type": "markdown",
   "metadata": {},
   "source": [
    "EDA"
   ]
  },
  {
   "cell_type": "code",
   "execution_count": 95,
   "metadata": {},
   "outputs": [
    {
     "name": "stdout",
     "output_type": "stream",
     "text": [
      "<class 'pandas.core.frame.DataFrame'>\n",
      "RangeIndex: 4095 entries, 0 to 4094\n",
      "Data columns (total 10 columns):\n",
      " #   Column               Non-Null Count  Dtype  \n",
      "---  ------               --------------  -----  \n",
      " 0   Unnamed: 0           4095 non-null   int64  \n",
      " 1   Make                 4095 non-null   object \n",
      " 2   Year of manufacture  3617 non-null   float64\n",
      " 3   Condition            3616 non-null   object \n",
      " 4   Mileage              4024 non-null   float64\n",
      " 5   Engine Size          3584 non-null   float64\n",
      " 6   Fuel                 3607 non-null   object \n",
      " 7   Transmission         4075 non-null   object \n",
      " 8   Price                4095 non-null   object \n",
      " 9   Build                1127 non-null   object \n",
      "dtypes: float64(3), int64(1), object(6)\n",
      "memory usage: 320.0+ KB\n"
     ]
    }
   ],
   "source": [
    "## Variable types\n",
    "prices.info()"
   ]
  },
  {
   "cell_type": "code",
   "execution_count": 96,
   "metadata": {},
   "outputs": [
    {
     "data": {
      "text/plain": [
       "Unnamed: 0             4095\n",
       "Make                     49\n",
       "Year of manufacture      29\n",
       "Condition                 3\n",
       "Mileage                3118\n",
       "Engine Size              81\n",
       "Fuel                      4\n",
       "Transmission              4\n",
       "Price                   579\n",
       "Build                     1\n",
       "dtype: int64"
      ]
     },
     "execution_count": 96,
     "metadata": {},
     "output_type": "execute_result"
    }
   ],
   "source": [
    "# Sum of NA for each variable\n",
    "prices.isna().sum()\n",
    "prices.nunique()\n",
    "    ## Condition, Feul, Transmission, are cateogical"
   ]
  },
  {
   "cell_type": "code",
   "execution_count": 97,
   "metadata": {},
   "outputs": [
    {
     "data": {
      "text/plain": [
       "Unnamed: 0              0.000000\n",
       "Make                    0.000000\n",
       "Year of manufacture    11.672772\n",
       "Condition              11.697192\n",
       "Mileage                 1.733822\n",
       "Engine Size            12.478632\n",
       "Fuel                   11.916972\n",
       "Transmission            0.488400\n",
       "Price                   0.000000\n",
       "Build                  72.478632\n",
       "dtype: float64"
      ]
     },
     "execution_count": 97,
     "metadata": {},
     "output_type": "execute_result"
    }
   ],
   "source": [
    "## Percentage of null values\n",
    "(prices.isnull().sum() / len(prices)) * 100 ## Build can be dropped since it has a lot of null values"
   ]
  },
  {
   "cell_type": "code",
   "execution_count": 98,
   "metadata": {},
   "outputs": [
    {
     "data": {
      "text/html": [
       "<div>\n",
       "<style scoped>\n",
       "    .dataframe tbody tr th:only-of-type {\n",
       "        vertical-align: middle;\n",
       "    }\n",
       "\n",
       "    .dataframe tbody tr th {\n",
       "        vertical-align: top;\n",
       "    }\n",
       "\n",
       "    .dataframe thead th {\n",
       "        text-align: right;\n",
       "    }\n",
       "</style>\n",
       "<table border=\"1\" class=\"dataframe\">\n",
       "  <thead>\n",
       "    <tr style=\"text-align: right;\">\n",
       "      <th></th>\n",
       "      <th>Unnamed: 0</th>\n",
       "      <th>Year of manufacture</th>\n",
       "      <th>Mileage</th>\n",
       "      <th>Engine Size</th>\n",
       "    </tr>\n",
       "  </thead>\n",
       "  <tbody>\n",
       "    <tr>\n",
       "      <th>count</th>\n",
       "      <td>4095.000000</td>\n",
       "      <td>3617.000000</td>\n",
       "      <td>4.024000e+03</td>\n",
       "      <td>3584.000000</td>\n",
       "    </tr>\n",
       "    <tr>\n",
       "      <th>mean</th>\n",
       "      <td>2047.000000</td>\n",
       "      <td>2007.898535</td>\n",
       "      <td>1.825337e+05</td>\n",
       "      <td>3274.976562</td>\n",
       "    </tr>\n",
       "    <tr>\n",
       "      <th>std</th>\n",
       "      <td>1182.269005</td>\n",
       "      <td>4.300126</td>\n",
       "      <td>2.109233e+05</td>\n",
       "      <td>7693.489588</td>\n",
       "    </tr>\n",
       "    <tr>\n",
       "      <th>min</th>\n",
       "      <td>0.000000</td>\n",
       "      <td>1992.000000</td>\n",
       "      <td>1.000000e+00</td>\n",
       "      <td>3.000000</td>\n",
       "    </tr>\n",
       "    <tr>\n",
       "      <th>25%</th>\n",
       "      <td>1023.500000</td>\n",
       "      <td>2005.000000</td>\n",
       "      <td>1.020640e+05</td>\n",
       "      <td>2000.000000</td>\n",
       "    </tr>\n",
       "    <tr>\n",
       "      <th>50%</th>\n",
       "      <td>2047.000000</td>\n",
       "      <td>2008.000000</td>\n",
       "      <td>1.613525e+05</td>\n",
       "      <td>2500.000000</td>\n",
       "    </tr>\n",
       "    <tr>\n",
       "      <th>75%</th>\n",
       "      <td>3070.500000</td>\n",
       "      <td>2011.000000</td>\n",
       "      <td>2.319522e+05</td>\n",
       "      <td>3500.000000</td>\n",
       "    </tr>\n",
       "    <tr>\n",
       "      <th>max</th>\n",
       "      <td>4094.000000</td>\n",
       "      <td>2021.000000</td>\n",
       "      <td>9.976050e+06</td>\n",
       "      <td>371000.000000</td>\n",
       "    </tr>\n",
       "  </tbody>\n",
       "</table>\n",
       "</div>"
      ],
      "text/plain": [
       "        Unnamed: 0  Year of manufacture       Mileage    Engine Size\n",
       "count  4095.000000          3617.000000  4.024000e+03    3584.000000\n",
       "mean   2047.000000          2007.898535  1.825337e+05    3274.976562\n",
       "std    1182.269005             4.300126  2.109233e+05    7693.489588\n",
       "min       0.000000          1992.000000  1.000000e+00       3.000000\n",
       "25%    1023.500000          2005.000000  1.020640e+05    2000.000000\n",
       "50%    2047.000000          2008.000000  1.613525e+05    2500.000000\n",
       "75%    3070.500000          2011.000000  2.319522e+05    3500.000000\n",
       "max    4094.000000          2021.000000  9.976050e+06  371000.000000"
      ]
     },
     "execution_count": 98,
     "metadata": {},
     "output_type": "execute_result"
    }
   ],
   "source": [
    "## Summary Statistics\n",
    "prices.describe()"
   ]
  },
  {
   "cell_type": "code",
   "execution_count": 225,
   "metadata": {},
   "outputs": [],
   "source": [
    "prices_1 = prices.copy()"
   ]
  },
  {
   "cell_type": "code",
   "execution_count": 226,
   "metadata": {},
   "outputs": [],
   "source": [
    "prices_1 = prices_1.drop(columns= ['Build']) ## Dropping Build"
   ]
  },
  {
   "cell_type": "code",
   "execution_count": 227,
   "metadata": {},
   "outputs": [],
   "source": [
    "prices_1['Price'].replace(to_replace=',', value='', regex=True, inplace=True) ## Removing commas in price"
   ]
  },
  {
   "cell_type": "code",
   "execution_count": 228,
   "metadata": {},
   "outputs": [],
   "source": [
    "prices_1['Price'] = prices_1['Price'].astype(float) ## Converting price to a float"
   ]
  },
  {
   "cell_type": "code",
   "execution_count": 10,
   "metadata": {},
   "outputs": [],
   "source": [
    "Continous = prices_1.drop(columns=['Condition', 'Fuel', 'Transmission','Make'])"
   ]
  },
  {
   "cell_type": "code",
   "execution_count": 10,
   "metadata": {},
   "outputs": [
    {
     "name": "stdout",
     "output_type": "stream",
     "text": [
      "AxesSubplot(0.125,0.125;0.775x0.755)\n",
      "AxesSubplot(0.125,0.125;0.775x0.755)\n",
      "AxesSubplot(0.125,0.125;0.775x0.755)\n",
      "AxesSubplot(0.125,0.125;0.775x0.755)\n",
      "AxesSubplot(0.125,0.125;0.775x0.755)\n"
     ]
    },
    {
     "data": {
      "image/png": "[encoded data removed]",
      "text/plain": [
       "<Figure size 432x288 with 1 Axes>"
      ]
     },
     "metadata": {},
     "output_type": "display_data"
    }
   ],
   "source": [
    "for con in Continous:\n",
    "    print(sns.histplot(Continous,  x=con))"
   ]
  },
  {
   "cell_type": "code",
   "execution_count": 43,
   "metadata": {},
   "outputs": [],
   "source": [
    "## Categorical\n",
    "#sns.countplot(x= 'Condition', data = Category, palette= 'hls')\n",
    "Categorical = prices_1.drop(columns = ['Unnamed: 0', 'Year of manufacture', 'Mileage', 'Engine Size', 'Price'])"
   ]
  },
  {
   "cell_type": "code",
   "execution_count": 47,
   "metadata": {},
   "outputs": [
    {
     "name": "stdout",
     "output_type": "stream",
     "text": [
      "Toyota           1469\n",
      "Lexus             464\n",
      "Mercedes-Benz     436\n",
      "Honda             428\n",
      "Ford              197\n",
      "Hyundai           179\n",
      "Nissan            173\n",
      "Kia                90\n",
      "Land Rover         74\n",
      "Volkswagen         64\n",
      "BMW                63\n",
      "Mazda              63\n",
      "Acura              56\n",
      "Infiniti           41\n",
      "Chevrolet          40\n",
      "Peugeot            36\n",
      "Mitsubishi         23\n",
      "Volvo              22\n",
      "Pontiac            22\n",
      "Suzuki             21\n",
      "Dodge              17\n",
      "Audi               14\n",
      "Opel               12\n",
      "Jaguar             11\n",
      "Jeep               11\n",
      "Porsche             9\n",
      "Renault             8\n",
      "Chrysler            7\n",
      "Fiat                6\n",
      "GMC                 5\n",
      "Lincoln             4\n",
      "Changan             4\n",
      "Skoda               3\n",
      "Hummer              2\n",
      "Isuzu               2\n",
      "Citroen             2\n",
      "JAC                 2\n",
      "Mini                2\n",
      "Buick               2\n",
      "MG                  2\n",
      "Cadillac            1\n",
      "Foton               1\n",
      "Rover               1\n",
      "Saturn              1\n",
      "SsangYong           1\n",
      "Daihatsu            1\n",
      "Bentley             1\n",
      "Seat                1\n",
      "Tata                1\n",
      "Name: Make, dtype: int64\n",
      "Nigerian Used    2521\n",
      "Foreign Used     1090\n",
      "Brand New           5\n",
      "Name: Condition, dtype: int64\n",
      "Petrol      3535\n",
      "Diesel        37\n",
      "Hybrid        30\n",
      "Electric       5\n",
      "Name: Fuel, dtype: int64\n",
      "Automatic    3810\n",
      "Manual        230\n",
      "CVT            22\n",
      "AMT            13\n",
      "Name: Transmission, dtype: int64\n"
     ]
    }
   ],
   "source": [
    "## Value Counts for categories\n",
    "for cat in Categorical:\n",
    "    print(Categorical[cat].value_counts()) # No zero cell counts"
   ]
  },
  {
   "cell_type": "code",
   "execution_count": 229,
   "metadata": {},
   "outputs": [],
   "source": [
    "# set up the threshold percent\n",
    "threshold_percent = 1\n",
    "\n",
    "series = pd.value_counts(prices_1['Make'])\n",
    "mask = (series / series.sum() * 100).lt(threshold_percent)\n",
    "prices_1 = prices_1.assign(Make_updated = np.where(prices_1['Make'].isin(series[mask].index),'Other', prices_1['Make'])) ## Creating other category for Make"
   ]
  },
  {
   "cell_type": "code",
   "execution_count": 230,
   "metadata": {},
   "outputs": [],
   "source": [
    "prices_1['Make_updated'].value_counts()\n",
    "prices_1 = prices_1.drop(columns= ['Make']) "
   ]
  },
  {
   "cell_type": "markdown",
   "metadata": {},
   "source": [
    "Analysis"
   ]
  },
  {
   "cell_type": "code",
   "execution_count": 262,
   "metadata": {},
   "outputs": [],
   "source": [
    "### Train Test split\n",
    "X = prices_1.drop(['Price','Unnamed: 0'], axis=1)  # features\n",
    "y = prices_1['Price'] \n",
    "X_train, X_test, y_train, y_test = train_test_split(X, y, test_size=0.4, random_state=42)"
   ]
  },
  {
   "cell_type": "markdown",
   "metadata": {},
   "source": [
    "Train"
   ]
  },
  {
   "cell_type": "code",
   "execution_count": 106,
   "metadata": {},
   "outputs": [
    {
     "data": {
      "text/plain": [
       "Year of manufacture    275\n",
       "Condition              275\n",
       "Mileage                 46\n",
       "Engine Size            296\n",
       "Fuel                   285\n",
       "Transmission            13\n",
       "Make_updated             0\n",
       "dtype: int64"
      ]
     },
     "execution_count": 106,
     "metadata": {},
     "output_type": "execute_result"
    }
   ],
   "source": [
    "#Sum of NA\n",
    "X_train.isnull().sum()"
   ]
  },
  {
   "cell_type": "code",
   "execution_count": 239,
   "metadata": {},
   "outputs": [],
   "source": [
    "# X_train_missing = X_train.copy()\n",
    "# for col_idx in range(X_train.shape[1]):\n",
    "#     col = X_train.columns[col_idx]\n",
    "#     #get dtype for column\n",
    "#     dt = X_train.iloc[:, col_idx].dtype \n",
    "#     #check if it is a number\n",
    "#     if dt == int or dt == float:\n",
    "#         X_train_missing.iloc[:, col_idx] = X_train.iloc[:, col_idx].isnull().astype(int) \n",
    "#         X_train_missing.rename(columns={col: col+\"_missing\"}, inplace=True)\n",
    "#     else:\n",
    "#         X_train_missing.iloc[:, col_idx] = X_train.iloc[:, col_idx]"
   ]
  },
  {
   "cell_type": "code",
   "execution_count": 263,
   "metadata": {},
   "outputs": [],
   "source": [
    "### Creating a binary flag before imputation for continuous\n",
    "X_train_1 = X_train.copy()\n",
    "for col in X_train.columns:\n",
    "    #get dtype for column\n",
    "    dt = X_train[col].dtype \n",
    "    #check if it is a number\n",
    "    if dt == int or dt == float:\n",
    "        X_train_1[col+\"_missing\"] = X_train[col].isnull()*1 \n",
    "    else:\n",
    "        X_train_1[col] = X_train[col]"
   ]
  },
  {
   "cell_type": "code",
   "execution_count": 265,
   "metadata": {},
   "outputs": [],
   "source": [
    "#Dealing with NA's for Continuous\n",
    "#prices[['Year of manufacture','Mileage','Engine Size']] = prices[[['Year of manufacture','Mileage','Engine Size']]].fillna(prices[['Year of manufacture','Mileage','Engine Size']].median())\n",
    "for col in X_train.columns:\n",
    "    #get dtype for column\n",
    "    dt = X_train[col].dtype \n",
    "    #check if it is a number\n",
    "    if dt == int or dt == float:\n",
    "        X_train_1[col] = X_train[col].fillna(X_train[col].median())\n",
    "    else:\n",
    "        X_train_1[col].fillna(\"\")"
   ]
  },
  {
   "cell_type": "code",
   "execution_count": 242,
   "metadata": {},
   "outputs": [],
   "source": [
    "# X_train_imputed = X_train.copy()\n",
    "# for col_idx in range(X_train.shape[1]):\n",
    "#     col = X_train.columns[col_idx]\n",
    "#     #get dtype for column\n",
    "#     dt = X_train.iloc[:, col_idx].dtype \n",
    "#     #check if it is a number\n",
    "#     if dt == int or dt == float:\n",
    "#         X_train_imputed.iloc[:, col_idx] = X_train.iloc[:, col_idx].fillna(X_train.iloc[:, col_idx].median()) \n",
    "#     else:\n",
    "#         X_train_imputed.iloc[:, col_idx] = X_train.iloc[:, col_idx]"
   ]
  },
  {
   "cell_type": "code",
   "execution_count": null,
   "metadata": {},
   "outputs": [],
   "source": [
    "#X_train_1[X_train_1['Mileage_missing']==1] ## Checking to make sure column was created right and flag was created"
   ]
  },
  {
   "cell_type": "code",
   "execution_count": 16,
   "metadata": {},
   "outputs": [
    {
     "data": {
      "text/plain": [
       "Year of manufacture              0\n",
       "Condition                      275\n",
       "Mileage                          0\n",
       "Engine Size                      0\n",
       "Fuel                           285\n",
       "Transmission                    13\n",
       "Make_updated                     0\n",
       "Year of manufacture_missing      0\n",
       "Mileage_missing                  0\n",
       "Engine Size_missing              0\n",
       "dtype: int64"
      ]
     },
     "execution_count": 16,
     "metadata": {},
     "output_type": "execute_result"
    }
   ],
   "source": [
    "X_train.isnull().sum()\n",
    "#prices_1['Condition'].value_counts()"
   ]
  },
  {
   "cell_type": "code",
   "execution_count": 86,
   "metadata": {},
   "outputs": [
    {
     "data": {
      "text/plain": [
       "Index(['Make', 'Condition', 'Fuel', 'Transmission'], dtype='object')"
      ]
     },
     "execution_count": 86,
     "metadata": {},
     "output_type": "execute_result"
    }
   ],
   "source": [
    "#Categorical.columns\n",
    "#Categorical.columns"
   ]
  },
  {
   "cell_type": "code",
   "execution_count": 268,
   "metadata": {},
   "outputs": [],
   "source": [
    "#Creating a missing categgory for catgorical variables\n",
    "def impute_nan_create_category(X_train_1,ColName):\n",
    "     X_train_1[ColName] = np.where(X_train_1[ColName].isnull(),\"Missing\",X_train_1[ColName])\n",
    "## Call function to create new category for variables\n",
    "for Col in ['Condition', 'Fuel', 'Transmission']:\n",
    "    impute_nan_create_category(X_train_1,Col)"
   ]
  },
  {
   "cell_type": "code",
   "execution_count": 269,
   "metadata": {},
   "outputs": [
    {
     "data": {
      "text/html": [
       "<div>\n",
       "<style scoped>\n",
       "    .dataframe tbody tr th:only-of-type {\n",
       "        vertical-align: middle;\n",
       "    }\n",
       "\n",
       "    .dataframe tbody tr th {\n",
       "        vertical-align: top;\n",
       "    }\n",
       "\n",
       "    .dataframe thead th {\n",
       "        text-align: right;\n",
       "    }\n",
       "</style>\n",
       "<table border=\"1\" class=\"dataframe\">\n",
       "  <thead>\n",
       "    <tr style=\"text-align: right;\">\n",
       "      <th></th>\n",
       "      <th>Year of manufacture</th>\n",
       "      <th>Condition</th>\n",
       "      <th>Mileage</th>\n",
       "      <th>Engine Size</th>\n",
       "      <th>Fuel</th>\n",
       "      <th>Transmission</th>\n",
       "      <th>Make_updated</th>\n",
       "      <th>Year of manufacture_missing</th>\n",
       "      <th>Mileage_missing</th>\n",
       "      <th>Engine Size_missing</th>\n",
       "    </tr>\n",
       "  </thead>\n",
       "  <tbody>\n",
       "    <tr>\n",
       "      <th>1565</th>\n",
       "      <td>2008.0</td>\n",
       "      <td>Missing</td>\n",
       "      <td>15711.0</td>\n",
       "      <td>2500.0</td>\n",
       "      <td>Missing</td>\n",
       "      <td>Automatic</td>\n",
       "      <td>Hyundai</td>\n",
       "      <td>1</td>\n",
       "      <td>0</td>\n",
       "      <td>1</td>\n",
       "    </tr>\n",
       "    <tr>\n",
       "      <th>911</th>\n",
       "      <td>2008.0</td>\n",
       "      <td>Missing</td>\n",
       "      <td>157093.0</td>\n",
       "      <td>2500.0</td>\n",
       "      <td>Missing</td>\n",
       "      <td>Automatic</td>\n",
       "      <td>Mercedes-Benz</td>\n",
       "      <td>1</td>\n",
       "      <td>0</td>\n",
       "      <td>1</td>\n",
       "    </tr>\n",
       "    <tr>\n",
       "      <th>2155</th>\n",
       "      <td>2008.0</td>\n",
       "      <td>Missing</td>\n",
       "      <td>207527.0</td>\n",
       "      <td>2500.0</td>\n",
       "      <td>Missing</td>\n",
       "      <td>Automatic</td>\n",
       "      <td>Kia</td>\n",
       "      <td>1</td>\n",
       "      <td>0</td>\n",
       "      <td>1</td>\n",
       "    </tr>\n",
       "    <tr>\n",
       "      <th>2714</th>\n",
       "      <td>2008.0</td>\n",
       "      <td>Missing</td>\n",
       "      <td>101479.0</td>\n",
       "      <td>2500.0</td>\n",
       "      <td>Missing</td>\n",
       "      <td>Automatic</td>\n",
       "      <td>Mercedes-Benz</td>\n",
       "      <td>1</td>\n",
       "      <td>0</td>\n",
       "      <td>1</td>\n",
       "    </tr>\n",
       "    <tr>\n",
       "      <th>353</th>\n",
       "      <td>2008.0</td>\n",
       "      <td>Missing</td>\n",
       "      <td>144059.0</td>\n",
       "      <td>2500.0</td>\n",
       "      <td>Missing</td>\n",
       "      <td>Automatic</td>\n",
       "      <td>Mercedes-Benz</td>\n",
       "      <td>1</td>\n",
       "      <td>0</td>\n",
       "      <td>1</td>\n",
       "    </tr>\n",
       "    <tr>\n",
       "      <th>...</th>\n",
       "      <td>...</td>\n",
       "      <td>...</td>\n",
       "      <td>...</td>\n",
       "      <td>...</td>\n",
       "      <td>...</td>\n",
       "      <td>...</td>\n",
       "      <td>...</td>\n",
       "      <td>...</td>\n",
       "      <td>...</td>\n",
       "      <td>...</td>\n",
       "    </tr>\n",
       "    <tr>\n",
       "      <th>1267</th>\n",
       "      <td>2008.0</td>\n",
       "      <td>Missing</td>\n",
       "      <td>206590.0</td>\n",
       "      <td>2500.0</td>\n",
       "      <td>Missing</td>\n",
       "      <td>Automatic</td>\n",
       "      <td>Ford</td>\n",
       "      <td>1</td>\n",
       "      <td>0</td>\n",
       "      <td>1</td>\n",
       "    </tr>\n",
       "    <tr>\n",
       "      <th>1806</th>\n",
       "      <td>2008.0</td>\n",
       "      <td>Missing</td>\n",
       "      <td>157197.0</td>\n",
       "      <td>2500.0</td>\n",
       "      <td>Missing</td>\n",
       "      <td>Manual</td>\n",
       "      <td>Other</td>\n",
       "      <td>1</td>\n",
       "      <td>0</td>\n",
       "      <td>1</td>\n",
       "    </tr>\n",
       "    <tr>\n",
       "      <th>747</th>\n",
       "      <td>2008.0</td>\n",
       "      <td>Missing</td>\n",
       "      <td>232683.0</td>\n",
       "      <td>2500.0</td>\n",
       "      <td>Missing</td>\n",
       "      <td>Automatic</td>\n",
       "      <td>Ford</td>\n",
       "      <td>1</td>\n",
       "      <td>0</td>\n",
       "      <td>1</td>\n",
       "    </tr>\n",
       "    <tr>\n",
       "      <th>21</th>\n",
       "      <td>2008.0</td>\n",
       "      <td>Missing</td>\n",
       "      <td>63085.0</td>\n",
       "      <td>2500.0</td>\n",
       "      <td>Missing</td>\n",
       "      <td>Automatic</td>\n",
       "      <td>Mercedes-Benz</td>\n",
       "      <td>1</td>\n",
       "      <td>0</td>\n",
       "      <td>1</td>\n",
       "    </tr>\n",
       "    <tr>\n",
       "      <th>769</th>\n",
       "      <td>2008.0</td>\n",
       "      <td>Missing</td>\n",
       "      <td>109027.0</td>\n",
       "      <td>2500.0</td>\n",
       "      <td>Missing</td>\n",
       "      <td>Automatic</td>\n",
       "      <td>Mercedes-Benz</td>\n",
       "      <td>1</td>\n",
       "      <td>0</td>\n",
       "      <td>1</td>\n",
       "    </tr>\n",
       "  </tbody>\n",
       "</table>\n",
       "<p>275 rows × 10 columns</p>\n",
       "</div>"
      ],
      "text/plain": [
       "      Year of manufacture Condition   Mileage  Engine Size     Fuel  \\\n",
       "1565               2008.0   Missing   15711.0       2500.0  Missing   \n",
       "911                2008.0   Missing  157093.0       2500.0  Missing   \n",
       "2155               2008.0   Missing  207527.0       2500.0  Missing   \n",
       "2714               2008.0   Missing  101479.0       2500.0  Missing   \n",
       "353                2008.0   Missing  144059.0       2500.0  Missing   \n",
       "...                   ...       ...       ...          ...      ...   \n",
       "1267               2008.0   Missing  206590.0       2500.0  Missing   \n",
       "1806               2008.0   Missing  157197.0       2500.0  Missing   \n",
       "747                2008.0   Missing  232683.0       2500.0  Missing   \n",
       "21                 2008.0   Missing   63085.0       2500.0  Missing   \n",
       "769                2008.0   Missing  109027.0       2500.0  Missing   \n",
       "\n",
       "     Transmission   Make_updated  Year of manufacture_missing  \\\n",
       "1565    Automatic        Hyundai                            1   \n",
       "911     Automatic  Mercedes-Benz                            1   \n",
       "2155    Automatic            Kia                            1   \n",
       "2714    Automatic  Mercedes-Benz                            1   \n",
       "353     Automatic  Mercedes-Benz                            1   \n",
       "...           ...            ...                          ...   \n",
       "1267    Automatic           Ford                            1   \n",
       "1806       Manual          Other                            1   \n",
       "747     Automatic           Ford                            1   \n",
       "21      Automatic  Mercedes-Benz                            1   \n",
       "769     Automatic  Mercedes-Benz                            1   \n",
       "\n",
       "      Mileage_missing  Engine Size_missing  \n",
       "1565                0                    1  \n",
       "911                 0                    1  \n",
       "2155                0                    1  \n",
       "2714                0                    1  \n",
       "353                 0                    1  \n",
       "...               ...                  ...  \n",
       "1267                0                    1  \n",
       "1806                0                    1  \n",
       "747                 0                    1  \n",
       "21                  0                    1  \n",
       "769                 0                    1  \n",
       "\n",
       "[275 rows x 10 columns]"
      ]
     },
     "execution_count": 269,
     "metadata": {},
     "output_type": "execute_result"
    }
   ],
   "source": [
    "#X_train_1[X_train_1['Condition']== 'Missing']"
   ]
  },
  {
   "cell_type": "code",
   "execution_count": 270,
   "metadata": {},
   "outputs": [],
   "source": [
    "#X_train[X_train['Transmission']== 'Missing']\n",
    "X_train_1 = pd.get_dummies(X_train_1, columns=['Make_updated','Condition', 'Fuel', 'Transmission'])"
   ]
  },
  {
   "cell_type": "markdown",
   "metadata": {},
   "source": [
    "Building XGBoost model on training data"
   ]
  },
  {
   "cell_type": "code",
   "execution_count": 169,
   "metadata": {},
   "outputs": [],
   "source": [
    "## Libraries\n",
    "from sklearn.metrics import auc, accuracy_score, confusion_matrix, mean_squared_error\n",
    "from sklearn.model_selection import cross_val_score, GridSearchCV, KFold, RandomizedSearchCV\n",
    "from xgboost import XGBRegressor\n",
    "import xgboost as xgb\n",
    "#from hyperopt import STATUS_OK, Trials, fmin, hp, tpe\n",
    "\n",
    "from xgboost import XGBRegressor\n",
    "from sklearn.metrics import mean_squared_error as MSE"
   ]
  },
  {
   "cell_type": "code",
   "execution_count": 170,
   "metadata": {},
   "outputs": [
    {
     "name": "stdout",
     "output_type": "stream",
     "text": [
      "Fitting 5 folds for each of 45 candidates, totalling 225 fits\n",
      "Best parameters: {'colsample_bytree': 1, 'learning_rate': 0.2, 'max_depth': 3, 'n_estimators': 100}\n",
      "Lowest RMSE:  2796896.1365005085\n"
     ]
    }
   ],
   "source": [
    "##XGB Tunning\n",
    "params = { 'max_depth': [3,6,10],\n",
    "           'learning_rate': [0.1, 0.15, 0.2, 0.25, 0.3],\n",
    "           'n_estimators': [100, 500, 1000],\n",
    "           'colsample_bytree': [1]}\n",
    "xgbr = xgb.XGBRegressor(seed = 20)\n",
    "clf = GridSearchCV(estimator=xgbr, \n",
    "                   param_grid=params,\n",
    "                   scoring='neg_mean_squared_error', \n",
    "                   verbose=1)\n",
    "clf.fit(X_train_1, y_train)\n",
    "print(\"Best parameters:\", clf.best_params_)\n",
    "print(\"Lowest RMSE: \", (-clf.best_score_)**(1/2.0))\n"
   ]
  },
  {
   "cell_type": "code",
   "execution_count": 272,
   "metadata": {},
   "outputs": [
    {
     "name": "stdout",
     "output_type": "stream",
     "text": [
      "RMSE: 2892204.78\n"
     ]
    }
   ],
   "source": [
    "dmatrix = xgb.DMatrix(data=X_train_1, label=y_train)\n",
    "params={'objective':'reg:squarederror',\n",
    "         'max_depth': 3, \n",
    "         'colsample_bytree': 1,\n",
    "         'learning_rate':0.2}\n",
    "cv_results = xgb.cv(dtrain=dmatrix, params=params, nfold=10, metrics={'rmse'}, as_pandas=True, seed=20, num_boost_round=100)\n",
    "print('RMSE: %.2f' % cv_results['test-rmse-mean'].min())"
   ]
  },
  {
   "cell_type": "code",
   "execution_count": 273,
   "metadata": {},
   "outputs": [],
   "source": [
    "## Building new model based on optimized parameters\n",
    "model = XGBRegressor(n_estimators = 100, colsample_bytree=1, max_depth = 3, learning_rate = .2,objective= 'reg:squarederror')\n",
    "XGB = model.fit(X_train_1, y_train)"
   ]
  },
  {
   "cell_type": "markdown",
   "metadata": {},
   "source": [
    "Test"
   ]
  },
  {
   "cell_type": "code",
   "execution_count": 274,
   "metadata": {},
   "outputs": [],
   "source": [
    "### Creating a binary flag before imputation for continuous\n",
    "X_test_1 = X_test.copy()\n",
    "for col in X_test.columns:\n",
    "    #get dtype for column\n",
    "    dt = X_test[col].dtype \n",
    "    #check if it is a number\n",
    "    if dt == int or dt == float:\n",
    "        X_test_1[col+\"_missing\"] = X_test[col].isnull()*1 \n",
    "    else:\n",
    "        X_test_1[col]= X_test[col]"
   ]
  },
  {
   "cell_type": "code",
   "execution_count": 275,
   "metadata": {},
   "outputs": [],
   "source": [
    "#Dealing with NA's for Continuous\n",
    "#prices[['Year of manufacture','Mileage','Engine Size']] = prices[[['Year of manufacture','Mileage','Engine Size']]].fillna(prices[['Year of manufacture','Mileage','Engine Size']].median())\n",
    "for col in X_test.columns:\n",
    "    #get dtype for column\n",
    "    dt = X_test[col].dtype \n",
    "    #check if it is a number\n",
    "    if dt == int or dt == float:\n",
    "        X_test_1[col] = X_test[col].fillna(X_test[col].median())\n",
    "    else:\n",
    "        X_test_1[col].fillna(\"\")"
   ]
  },
  {
   "cell_type": "code",
   "execution_count": 218,
   "metadata": {},
   "outputs": [],
   "source": [
    "# X_test_imputed = X_test.copy()\n",
    "# for col_idx in range(X_test.shape[1]):\n",
    "#     col = X_test.columns[col_idx]\n",
    "#     #get dtype for column\n",
    "#     dt = X_test.iloc[:, col_idx].dtype \n",
    "#     #check if it is a number\n",
    "#     if dt == int or dt == float:\n",
    "#         X_test_imputed.iloc[:, col_idx] = X_test.iloc[:, col_idx].fillna(X_test.iloc[:, col_idx].median()) \n",
    "#     else:\n",
    "#         X_test_imputed.iloc[:, col_idx] = X_test.iloc[:, col_idx]"
   ]
  },
  {
   "cell_type": "code",
   "execution_count": 276,
   "metadata": {},
   "outputs": [],
   "source": [
    "#Creating a missing categgory for catgorical variables\n",
    "def impute_nan_create_category(X_test_1,ColName):\n",
    "     X_test_1[ColName] = np.where(X_test_1[ColName].isnull(),\"Missing\",X_test_1[ColName])\n",
    "## Call function to create new category for variables\n",
    "for Columns in ['Condition', 'Fuel', 'Transmission']:\n",
    "    impute_nan_create_category(X_test_1,Columns)"
   ]
  },
  {
   "cell_type": "code",
   "execution_count": 277,
   "metadata": {},
   "outputs": [],
   "source": [
    "#X_test[X_test['Engine Size_missing']==1]\n",
    "X_test_1 = pd.get_dummies(X_test_1, columns=['Make_updated','Condition', 'Fuel', 'Transmission']) "
   ]
  },
  {
   "cell_type": "code",
   "execution_count": 284,
   "metadata": {},
   "outputs": [],
   "source": [
    "## There are 34 columns in test but 35 columns in train. This variable is missing so\n",
    "#I am creating this variable in the test and setting it to zero\n",
    "X_test_1['Condition_Brand New'] = 0"
   ]
  },
  {
   "cell_type": "code",
   "execution_count": 285,
   "metadata": {},
   "outputs": [],
   "source": [
    "column_to_move = X_test_1.pop(\"Condition_Brand New\")\n",
    "X_test_1.insert(21, \"Condition_Brand New\", column_to_move)"
   ]
  },
  {
   "cell_type": "code",
   "execution_count": 287,
   "metadata": {},
   "outputs": [],
   "source": [
    "## Making predictions on the test set\n",
    "y_pred=XGB.predict(X_test_1)"
   ]
  },
  {
   "cell_type": "code",
   "execution_count": 288,
   "metadata": {},
   "outputs": [
    {
     "name": "stdout",
     "output_type": "stream",
     "text": [
      "RMSE :  2757928.340709\n"
     ]
    }
   ],
   "source": [
    "rmse = np.sqrt(MSE(y_test, y_pred))\n",
    "print(\"RMSE : % f\" %(rmse))"
   ]
  },
  {
   "cell_type": "code",
   "execution_count": 289,
   "metadata": {},
   "outputs": [
    {
     "data": {
      "image/png": "[encoded data removed]",
      "text/plain": [
       "<Figure size 864x432 with 1 Axes>"
      ]
     },
     "metadata": {},
     "output_type": "display_data"
    }
   ],
   "source": [
    "## Feature Importance\n",
    "\n",
    "from xgboost import plot_importance\n",
    "import matplotlib.pyplot as plt\n",
    "plt.style.use('fivethirtyeight')\n",
    "plt.rcParams.update({'font.size': 16})\n",
    "\n",
    "fig, ax = plt.subplots(figsize=(12,6))\n",
    "plot_importance(XGB, max_num_features=8, ax=ax)\n",
    "plt.show()"
   ]
  },
  {
   "cell_type": "code",
   "execution_count": 290,
   "metadata": {},
   "outputs": [],
   "source": [
    "## Plotting actual vs predicted \n",
    "pred = pd.DataFrame(y_pred)"
   ]
  },
  {
   "cell_type": "code",
   "execution_count": 291,
   "metadata": {},
   "outputs": [],
   "source": [
    "pred = pred.apply(lambda x: '%.5f' % x, axis=1) ## Taking our scientific notation"
   ]
  },
  {
   "cell_type": "code",
   "execution_count": 292,
   "metadata": {},
   "outputs": [],
   "source": [
    "pred.columns = ['Price']"
   ]
  },
  {
   "cell_type": "code",
   "execution_count": 293,
   "metadata": {},
   "outputs": [],
   "source": [
    "y_test.reset_index(inplace=True, drop= True) ## resetting index"
   ]
  },
  {
   "cell_type": "code",
   "execution_count": 294,
   "metadata": {},
   "outputs": [],
   "source": [
    "## Joining actual vs predicted\n",
    "frame = [y_test, pred] \n",
    "result = pd.concat(frame, axis = 1)"
   ]
  },
  {
   "cell_type": "code",
   "execution_count": 295,
   "metadata": {},
   "outputs": [],
   "source": [
    "#Renaming columns\n",
    "result = result.rename(columns={\"Price\":\"Actual Price\"})\n",
    "result = result.rename(columns={0 :\"Predicted Price\"})"
   ]
  },
  {
   "cell_type": "code",
   "execution_count": 306,
   "metadata": {},
   "outputs": [
    {
     "data": {
      "image/png": "[encoded data removed]",
      "text/plain": [
       "<Figure size 720x720 with 1 Axes>"
      ]
     },
     "metadata": {},
     "output_type": "display_data"
    }
   ],
   "source": [
    "# convert the columns to numeric values\n",
    "y_test = pd.to_numeric(y_test)\n",
    "pred = pd.to_numeric(pred)\n",
    "\n",
    "diff = np.abs(pred - y_test)\n",
    "colors = np.where(diff < 0.1, 'green', 'red')\n",
    "\n",
    "# plot the actual vs predicted values with color coding\n",
    "plt.figure(figsize=(10,10))\n",
    "plt.scatter(y_test, pred, c=colors)\n",
    "plt.yscale('log')\n",
    "plt.xscale('log')\n",
    "\n",
    "p1 = max(max(pred), max(y_test))\n",
    "p2 = min(min(pred), min(y_test))\n",
    "plt.plot([p1, p2], [p1, p2], 'b-')\n",
    "plt.xlabel('True Values', fontsize=15)\n",
    "plt.ylabel('Predictions', fontsize=15)\n",
    "plt.axis('equal')\n",
    "plt.ylim(100000000, 10000)\n",
    "plt.show()"
   ]
  },
  {
   "cell_type": "code",
   "execution_count": 307,
   "metadata": {},
   "outputs": [
    {
     "data": {
      "text/plain": [
       "0        978965.500\n",
       "1        140055.000\n",
       "2        985833.500\n",
       "3       1986924.500\n",
       "4        462765.750\n",
       "           ...     \n",
       "1633    8807142.000\n",
       "1634    1208460.750\n",
       "1635    1023248.500\n",
       "1636     954181.125\n",
       "1637     285130.500\n",
       "Length: 1638, dtype: float64"
      ]
     },
     "execution_count": 307,
     "metadata": {},
     "output_type": "execute_result"
    }
   ],
   "source": [
    "diff"
   ]
  }
 ],
 "metadata": {
  "interpreter": {
   "hash": "c72bf1dbc6c8ed050e7bba48dcde93823038d67a774a26c43849737fde336080"
  },
  "kernelspec": {
   "display_name": "Python 3.8.8 ('base')",
   "language": "python",
   "name": "python3"
  },
  "language_info": {
   "codemirror_mode": {
    "name": "ipython",
    "version": 3
   },
   "file_extension": ".py",
   "mimetype": "text/x-python",
   "name": "python",
   "nbconvert_exporter": "python",
   "pygments_lexer": "ipython3",
   "version": "3.8.8"
  },
  "orig_nbformat": 4
 },
 "nbformat": 4,
 "nbformat_minor": 2
}
