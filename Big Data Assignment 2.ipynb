{
  "nbformat": 4,
  "nbformat_minor": 0,
  "metadata": {
    "colab": {
      "provenance": [],
      "authorship_tag": "ABX9TyMGs6ErH9fqzkWJ/epJSpq0",
      "include_colab_link": true
    },
    "kernelspec": {
      "name": "python3",
      "display_name": "Python 3"
    },
    "language_info": {
      "name": "python"
    }
  },
  "cells": [
    {
      "cell_type": "markdown",
      "metadata": {
        "id": "view-in-github",
        "colab_type": "text"
      },
      "source": [
        "<a href=\"https://colab.research.google.com/github/FuadHassan00/Projects/blob/main/Big%20Data%20Assignment%202.ipynb\" target=\"_parent\"><img src=\"https://colab.research.google.com/assets/colab-badge.svg\" alt=\"Open In Colab\"/></a>"
      ]
    },
    {
      "cell_type": "code",
      "execution_count": null,
      "metadata": {
        "id": "g_GM1Z-tD_uu"
      },
      "outputs": [],
      "source": [
        "!pip install google-cloud-firestore"
      ]
    },
    {
      "cell_type": "code",
      "source": [
        "from google.cloud import firestore\n",
        "import json\n",
        "import os, re"
      ],
      "metadata": {
        "id": "pmv7QaJ0ENFX"
      },
      "execution_count": 20,
      "outputs": []
    },
    {
      "cell_type": "code",
      "source": [
        "os.environ[\"GOOGLE_APPLICATION_CREDENTIALS\"]=\"iaa_firestore_sa.json\""
      ],
      "metadata": {
        "id": "RsrqrU5jF9Fm"
      },
      "execution_count": 21,
      "outputs": []
    },
    {
      "cell_type": "code",
      "source": [
        "db = firestore.Client()"
      ],
      "metadata": {
        "id": "oIpCdhCxGKY7"
      },
      "execution_count": 22,
      "outputs": []
    },
    {
      "cell_type": "code",
      "source": [
        "collection_id = 'iaa_2023'"
      ],
      "metadata": {
        "id": "gHxPdRPRGMwx"
      },
      "execution_count": 23,
      "outputs": []
    },
    {
      "cell_type": "code",
      "source": [
        "doc_id = 'dan_zaratsian'\n",
        "\n",
        "fs_obj = db.collection(collection_id).document(doc_id)\n",
        "\n",
        "test_record = fs_obj.get().to_dict()"
      ],
      "metadata": {
        "id": "-X8ZwKnwGTLc"
      },
      "execution_count": 24,
      "outputs": []
    },
    {
      "cell_type": "code",
      "source": [
        "print(test_record)"
      ],
      "metadata": {
        "colab": {
          "base_uri": "https://localhost:8080/"
        },
        "id": "jVyWjgLpITJv",
        "outputId": "e54b14a7-3367-4aca-9945-0722e06fdaa5"
      },
      "execution_count": 25,
      "outputs": [
        {
          "output_type": "stream",
          "name": "stdout",
          "text": [
            "{'favorite_vacations': ['Iceland', 'Patagonia', 'Finland'], 'iaa_graduation_year': 2011, 'favorite_sport': 'cycling'}\n"
          ]
        }
      ]
    },
    {
      "cell_type": "code",
      "source": [
        "test_record['Favorite_Hobby'] = 'Video Games_and_Lifting Weights'"
      ],
      "metadata": {
        "id": "AF5hzQ-ZIecd"
      },
      "execution_count": 26,
      "outputs": []
    },
    {
      "cell_type": "code",
      "source": [
        "print(test_record)"
      ],
      "metadata": {
        "colab": {
          "base_uri": "https://localhost:8080/"
        },
        "id": "iAU8nKcEMETU",
        "outputId": "5c4f31f9-894d-4608-ca5c-451e929f1051"
      },
      "execution_count": 29,
      "outputs": [
        {
          "output_type": "stream",
          "name": "stdout",
          "text": [
            "{'favorite_vacations': ['Iceland', 'Patagonia', 'Finland'], 'iaa_graduation_year': 2011, 'favorite_sport': 'cycling', 'Favorite_Hobby': 'Video Games_and_Lifting Weights'}\n"
          ]
        }
      ]
    },
    {
      "cell_type": "code",
      "source": [
        "# Code to write a record/document to Firestore\n",
        "\n",
        "your_doc_id = 'Fuad Hassan'\n",
        "\n",
        "fs_obj = db.collection(collection_id).document(your_doc_id)\n",
        "\n",
        "''' \n",
        "Add code here to write the updated test_record into the Firestore database.\n",
        "'''\n",
        "##Updating database\n",
        "fs_obj.set(test_record)\n",
        "#Viewing database\n",
        "fs_obj.get().to_dict()\n",
        "# NOTE: You should also be able to read the record that you sent to Firestore (just to confirm it worked)"
      ],
      "metadata": {
        "id": "GKybiYHSNFqn"
      },
      "execution_count": 32,
      "outputs": []
    },
    {
      "cell_type": "markdown",
      "source": [
        "# New Section"
      ],
      "metadata": {
        "id": "7drv-jW-FJ5X"
      }
    },
    {
      "cell_type": "markdown",
      "source": [
        "# New Section"
      ],
      "metadata": {
        "id": "2uxTSFD5FKY2"
      }
    }
  ]
}